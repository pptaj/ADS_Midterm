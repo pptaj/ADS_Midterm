{
 "cells": [
  {
   "cell_type": "code",
   "execution_count": 41,
   "metadata": {
    "collapsed": false
   },
   "outputs": [],
   "source": [
    "library(data.table)\n",
    "\n",
    "train <- fread(\"cleaned/cleaned_historical_data1_Q22005.csv\",select=c('CREDIT SCORE', 'FIRST PAYMENT YEAR', 'FIRST PAYMENT MONTH',\n",
    "                                                                   'MATURITY YEAR', 'MATURITY MONTH',\n",
    "                           'METROPOLITAN STATISTICAL AREA (MSA) OR METROPOLITAN DIVISION', \n",
    "                           'MORTGAGE INSURANCE PERCENTAGE (MI %)', 'NUMBER OF UNITS',\n",
    "                           'ORIGINAL COMBINED LOAN-TO-VALUE (CLTV)', 'ORIGINAL DEBT-TO-INCOME (DTI) RATIO', \n",
    "                           'ORIGINAL UPB', 'ORIGINAL LOAN-TO-VALUE (LTV)', 'ORIGINAL INTEREST RATE',\n",
    "                           'POSTAL CODE','ORIGINAL LOAN TERM','NUMBER OF BORROWERS', 'FIRST TIME HOMEBUYER FLAG YES',\n",
    "                           'FIRST TIME HOMEBUYER FLAG NO', 'FIRST TIME HOMEBUYER FLAG NA','METROPOLITAN_AREA_FLAG', 'MORTGAGE_INSURANCE_FLAG', 'OWNER OCCUPIED FLAG', 'INVESTMENT PROPERTY FLAG', \n",
    "                           'SECOND HOME SPACE FLAG', 'RETAIL CHANNEL FLAG', 'BROKER CHANNEL FLAG', 'CORRESPONDENT CHANNEL FLAG',\n",
    "                           'TP0 NOT SPECIFIED CHANNEL FLAG', 'PREPAYMENT PENALTY MORTGAGE (PPM) FLAG YES', \n",
    "                           'PREPAYMENT PENALTY MORTGAGE (PPM) FLAG NO', 'FIXED RATE MORTGAGE PRODUCT TYPE FLAG YES', \n",
    "                           'FIXED RATE MORTGAGE PRODUCT TYPE FLAG NO', 'CONDO PROPERTY TYPE FLAG', 'LEASE HOLD PROPERTY TYPE FLAG',\n",
    "                           'PUD PROPERTY TYPE FLAG', 'MANUFACTURE HOUSING PROPERTY TYPE FLAG', 'FREE SIMPLE HOUSING PROPERTY TYPE FLAG', \n",
    "                           'CO OP HOUSING PROPERTY TYPE FLAG', 'ORIGINATION YEAR', 'ORIGINATION QUARTER', 'LOAN PURPOSE IS PURCHASE FLAG',\n",
    "                           'LOAN PURPOSE IS CASH OUT REFINANCE FLAG', 'LOAN PURPOSE IS NO CASH OUT REFINANCE FLAG',\n",
    "                           'SUPER CONFORMING FLAG YES', 'SUPER CONFORMING FLAG NO'))\n"
   ]
  },
  {
   "cell_type": "code",
   "execution_count": 42,
   "metadata": {
    "collapsed": false
   },
   "outputs": [],
   "source": [
    "colnames(train) <- c('CREDITSCORE','FIRSTPAYMENTYEAR','FIRSTPAYMENTMONTH',\n",
    "'MATURITYYEAR','MATURITYMONTH',\n",
    "'METROPOLITANSTATISTICALAREA(MSA)ORMETROPOLITANDIVISION',\n",
    "'MORTGAGEINSURANCEPERCENTAGE(MI%)','NUMBEROFUNITS',\n",
    "'ORIGINALCOMBINEDLOAN-TO-VALUE(CLTV)','ORIGINALDEBT-TO-INCOME(DTI)RATIO',\n",
    "'ORIGINALUPB','ORIGINALLOAN-TO-VALUE(LTV)','ORIGINALINTERESTRATE',\n",
    "'POSTALCODE','ORIGINALLOANTERM','NUMBEROFBORROWERS','FIRSTTIMEHOMEBUYERFLAGYES',\n",
    "'FIRSTTIMEHOMEBUYERFLAGNO','FIRSTTIMEHOMEBUYERFLAGNA','METROPOLITAN_AREA_FLAG','MORTGAGE_INSURANCE_FLAG','OWNEROCCUPIEDFLAG','INVESTMENTPROPERTYFLAG',\n",
    "'SECONDHOMESPACEFLAG','RETAILCHANNELFLAG','BROKERCHANNELFLAG','CORRESPONDENTCHANNELFLAG',\n",
    "'TP0NOTSPECIFIEDCHANNELFLAG','PREPAYMENTPENALTYMORTGAGE(PPM)FLAGYES',\n",
    "'PREPAYMENTPENALTYMORTGAGE(PPM)FLAGNO','FIXEDRATEMORTGAGEPRODUCTTYPEFLAGYES',\n",
    "'FIXEDRATEMORTGAGEPRODUCTTYPEFLAGNO','CONDOPROPERTYTYPEFLAG','LEASEHOLDPROPERTYTYPEFLAG',\n",
    "'PUDPROPERTYTYPEFLAG','MANUFACTUREHOUSINGPROPERTYTYPEFLAG','FREESIMPLEHOUSINGPROPERTYTYPEFLAG',\n",
    "'COOPHOUSINGPROPERTYTYPEFLAG','ORIGINATIONYEAR','ORIGINATIONQUARTER','LOANPURPOSEISPURCHASEFLAG',\n",
    "'LOANPURPOSEISCASHOUTREFINANCEFLAG','LOANPURPOSEISNOCASHOUTREFINANCEFLAG',\n",
    "'SUPERCONFORMINGFLAGYES','SUPERCONFORMINGFLAGNO')\n",
    "\n"
   ]
  },
  {
   "cell_type": "code",
   "execution_count": 43,
   "metadata": {
    "collapsed": false
   },
   "outputs": [
    {
     "data": {
      "text/plain": [
       "\n",
       "Call:\n",
       "lm(formula = ORIGINALINTERESTRATE ~ ., data = train)\n",
       "\n",
       "Residuals:\n",
       "     Min       1Q   Median       3Q      Max \n",
       "-2.68723 -0.16869 -0.00276  0.16019  2.83441 \n",
       "\n",
       "Coefficients: (13 not defined because of singularities)\n",
       "                                                           Estimate Std. Error\n",
       "(Intercept)                                              -2.146e+02  7.638e+00\n",
       "CREDITSCORE                                              -7.178e-04  8.079e-06\n",
       "FIRSTPAYMENTYEAR                                          8.531e-02  3.811e-03\n",
       "FIRSTPAYMENTMONTH                                        -5.135e-02  1.023e-03\n",
       "MATURITYYEAR                                              2.485e-02  8.331e-05\n",
       "MATURITYMONTH                                            -2.845e-02  1.002e-03\n",
       "`METROPOLITANSTATISTICALAREA(MSA)ORMETROPOLITANDIVISION`  6.971e-07  4.360e-08\n",
       "`MORTGAGEINSURANCEPERCENTAGE(MI%)`                        1.775e-04  2.286e-05\n",
       "NUMBEROFUNITS                                             1.218e-02  2.285e-03\n",
       "`ORIGINALCOMBINEDLOAN-TO-VALUE(CLTV)`                     1.931e-04  4.525e-05\n",
       "`ORIGINALDEBT-TO-INCOME(DTI)RATIO`                        3.862e-04  3.464e-05\n",
       "ORIGINALUPB                                              -7.267e-07  5.952e-09\n",
       "`ORIGINALLOAN-TO-VALUE(LTV)`                              8.779e-04  5.645e-05\n",
       "POSTALCODE                                               -3.974e-07  1.572e-08\n",
       "ORIGINALLOANTERM                                                 NA         NA\n",
       "NUMBEROFBORROWERS                                        -1.734e-02  9.485e-04\n",
       "FIRSTTIMEHOMEBUYERFLAGYES                                -1.095e-02  2.282e-03\n",
       "FIRSTTIMEHOMEBUYERFLAGNO                                 -1.194e-02  1.549e-03\n",
       "FIRSTTIMEHOMEBUYERFLAGNA                                         NA         NA\n",
       "METROPOLITAN_AREA_FLAG                                   -2.032e-02  1.834e-03\n",
       "MORTGAGE_INSURANCE_FLAG                                   9.754e-02  1.649e-03\n",
       "OWNEROCCUPIEDFLAG                                        -2.552e-02  2.162e-03\n",
       "INVESTMENTPROPERTYFLAG                                    3.073e-01  3.388e-03\n",
       "SECONDHOMESPACEFLAG                                              NA         NA\n",
       "RETAILCHANNELFLAG                                         8.852e-02  9.502e-04\n",
       "BROKERCHANNELFLAG                                         2.485e-01  1.755e-02\n",
       "CORRESPONDENTCHANNELFLAG                                  4.064e-01  1.159e-02\n",
       "TP0NOTSPECIFIEDCHANNELFLAG                                       NA         NA\n",
       "`PREPAYMENTPENALTYMORTGAGE(PPM)FLAGYES`                   1.120e-01  1.127e-02\n",
       "`PREPAYMENTPENALTYMORTGAGE(PPM)FLAGNO`                           NA         NA\n",
       "FIXEDRATEMORTGAGEPRODUCTTYPEFLAGYES                              NA         NA\n",
       "FIXEDRATEMORTGAGEPRODUCTTYPEFLAGNO                               NA         NA\n",
       "CONDOPROPERTYTYPEFLAG                                    -1.678e-03  8.071e-03\n",
       "LEASEHOLDPROPERTYTYPEFLAG                                 6.743e-02  1.871e-02\n",
       "PUDPROPERTYTYPEFLAG                                      -2.637e-02  8.000e-03\n",
       "MANUFACTUREHOUSINGPROPERTYTYPEFLAG                        2.415e-01  8.846e-03\n",
       "FREESIMPLEHOUSINGPROPERTYTYPEFLAG                        -1.379e-02  7.912e-03\n",
       "COOPHOUSINGPROPERTYTYPEFLAG                                      NA         NA\n",
       "ORIGINATIONYEAR                                                  NA         NA\n",
       "ORIGINATIONQUARTER                                               NA         NA\n",
       "LOANPURPOSEISPURCHASEFLAG                                -5.893e-02  1.316e-03\n",
       "LOANPURPOSEISCASHOUTREFINANCEFLAG                         1.613e-02  1.232e-03\n",
       "LOANPURPOSEISNOCASHOUTREFINANCEFLAG                              NA         NA\n",
       "SUPERCONFORMINGFLAGYES                                           NA         NA\n",
       "SUPERCONFORMINGFLAGNO                                            NA         NA\n",
       "                                                          t value Pr(>|t|)    \n",
       "(Intercept)                                               -28.103  < 2e-16 ***\n",
       "CREDITSCORE                                               -88.856  < 2e-16 ***\n",
       "FIRSTPAYMENTYEAR                                           22.387  < 2e-16 ***\n",
       "FIRSTPAYMENTMONTH                                         -50.209  < 2e-16 ***\n",
       "MATURITYYEAR                                              298.318  < 2e-16 ***\n",
       "MATURITYMONTH                                             -28.384  < 2e-16 ***\n",
       "`METROPOLITANSTATISTICALAREA(MSA)ORMETROPOLITANDIVISION`   15.990  < 2e-16 ***\n",
       "`MORTGAGEINSURANCEPERCENTAGE(MI%)`                          7.764 8.23e-15 ***\n",
       "NUMBEROFUNITS                                               5.328 9.95e-08 ***\n",
       "`ORIGINALCOMBINEDLOAN-TO-VALUE(CLTV)`                       4.266 1.99e-05 ***\n",
       "`ORIGINALDEBT-TO-INCOME(DTI)RATIO`                         11.149  < 2e-16 ***\n",
       "ORIGINALUPB                                              -122.102  < 2e-16 ***\n",
       "`ORIGINALLOAN-TO-VALUE(LTV)`                               15.552  < 2e-16 ***\n",
       "POSTALCODE                                                -25.276  < 2e-16 ***\n",
       "ORIGINALLOANTERM                                               NA       NA    \n",
       "NUMBEROFBORROWERS                                         -18.284  < 2e-16 ***\n",
       "FIRSTTIMEHOMEBUYERFLAGYES                                  -4.798 1.60e-06 ***\n",
       "FIRSTTIMEHOMEBUYERFLAGNO                                   -7.710 1.26e-14 ***\n",
       "FIRSTTIMEHOMEBUYERFLAGNA                                       NA       NA    \n",
       "METROPOLITAN_AREA_FLAG                                    -11.078  < 2e-16 ***\n",
       "MORTGAGE_INSURANCE_FLAG                                    59.153  < 2e-16 ***\n",
       "OWNEROCCUPIEDFLAG                                         -11.808  < 2e-16 ***\n",
       "INVESTMENTPROPERTYFLAG                                     90.708  < 2e-16 ***\n",
       "SECONDHOMESPACEFLAG                                            NA       NA    \n",
       "RETAILCHANNELFLAG                                          93.161  < 2e-16 ***\n",
       "BROKERCHANNELFLAG                                          14.161  < 2e-16 ***\n",
       "CORRESPONDENTCHANNELFLAG                                   35.056  < 2e-16 ***\n",
       "TP0NOTSPECIFIEDCHANNELFLAG                                     NA       NA    \n",
       "`PREPAYMENTPENALTYMORTGAGE(PPM)FLAGYES`                     9.944  < 2e-16 ***\n",
       "`PREPAYMENTPENALTYMORTGAGE(PPM)FLAGNO`                         NA       NA    \n",
       "FIXEDRATEMORTGAGEPRODUCTTYPEFLAGYES                            NA       NA    \n",
       "FIXEDRATEMORTGAGEPRODUCTTYPEFLAGNO                             NA       NA    \n",
       "CONDOPROPERTYTYPEFLAG                                      -0.208 0.835264    \n",
       "LEASEHOLDPROPERTYTYPEFLAG                                   3.603 0.000314 ***\n",
       "PUDPROPERTYTYPEFLAG                                        -3.296 0.000982 ***\n",
       "MANUFACTUREHOUSINGPROPERTYTYPEFLAG                         27.301  < 2e-16 ***\n",
       "FREESIMPLEHOUSINGPROPERTYTYPEFLAG                          -1.743 0.081327 .  \n",
       "COOPHOUSINGPROPERTYTYPEFLAG                                    NA       NA    \n",
       "ORIGINATIONYEAR                                                NA       NA    \n",
       "ORIGINATIONQUARTER                                             NA       NA    \n",
       "LOANPURPOSEISPURCHASEFLAG                                 -44.771  < 2e-16 ***\n",
       "LOANPURPOSEISCASHOUTREFINANCEFLAG                          13.086  < 2e-16 ***\n",
       "LOANPURPOSEISNOCASHOUTREFINANCEFLAG                            NA       NA    \n",
       "SUPERCONFORMINGFLAGYES                                         NA       NA    \n",
       "SUPERCONFORMINGFLAGNO                                          NA       NA    \n",
       "---\n",
       "Signif. codes:  0 '***' 0.001 '**' 0.01 '*' 0.05 '.' 0.1 ' ' 1\n",
       "\n",
       "Residual standard error: 0.2858 on 405390 degrees of freedom\n",
       "Multiple R-squared:  0.3354,\tAdjusted R-squared:  0.3353 \n",
       "F-statistic:  6599 on 31 and 405390 DF,  p-value: < 2.2e-16\n"
      ]
     },
     "metadata": {},
     "output_type": "display_data"
    }
   ],
   "source": [
    "# library(ISLR)\n",
    "# install.packages(\"forecast\", repos = \"http://cran.us.r-project.org\")\n",
    "library(forecast)\n",
    "# regfit.full('Credit Score'~., data=test)\n",
    "# summary(regfit.full)\n",
    "lm.fit = lm(ORIGINALINTERESTRATE ~ .,data = train)\n",
    "summary(lm.fit)"
   ]
  },
  {
   "cell_type": "code",
   "execution_count": 44,
   "metadata": {
    "collapsed": false
   },
   "outputs": [
    {
     "name": "stdout",
     "output_type": "stream",
     "text": [
      "\r",
      "Read 86.2% of 533371 rows\r",
      "Read 533371 rows and 45 (of 59) columns from 0.107 GB file in 00:00:03\n"
     ]
    }
   ],
   "source": [
    "test <- fread(\"cleaned/cleaned_historical_data1_Q32005.csv\",select=c('CREDIT SCORE', 'FIRST PAYMENT YEAR', 'FIRST PAYMENT MONTH',\n",
    "                                                                   'MATURITY YEAR', 'MATURITY MONTH',\n",
    "                           'METROPOLITAN STATISTICAL AREA (MSA) OR METROPOLITAN DIVISION', \n",
    "                           'MORTGAGE INSURANCE PERCENTAGE (MI %)', 'NUMBER OF UNITS',\n",
    "                           'ORIGINAL COMBINED LOAN-TO-VALUE (CLTV)', 'ORIGINAL DEBT-TO-INCOME (DTI) RATIO', \n",
    "                           'ORIGINAL UPB', 'ORIGINAL LOAN-TO-VALUE (LTV)', 'ORIGINAL INTEREST RATE',\n",
    "                           'POSTAL CODE','ORIGINAL LOAN TERM','NUMBER OF BORROWERS', 'FIRST TIME HOMEBUYER FLAG YES',\n",
    "                           'FIRST TIME HOMEBUYER FLAG NO', 'FIRST TIME HOMEBUYER FLAG NA','METROPOLITAN_AREA_FLAG', 'MORTGAGE_INSURANCE_FLAG', 'OWNER OCCUPIED FLAG', 'INVESTMENT PROPERTY FLAG', \n",
    "                           'SECOND HOME SPACE FLAG', 'RETAIL CHANNEL FLAG', 'BROKER CHANNEL FLAG', 'CORRESPONDENT CHANNEL FLAG',\n",
    "                           'TP0 NOT SPECIFIED CHANNEL FLAG', 'PREPAYMENT PENALTY MORTGAGE (PPM) FLAG YES', \n",
    "                           'PREPAYMENT PENALTY MORTGAGE (PPM) FLAG NO', 'FIXED RATE MORTGAGE PRODUCT TYPE FLAG YES', \n",
    "                           'FIXED RATE MORTGAGE PRODUCT TYPE FLAG NO', 'CONDO PROPERTY TYPE FLAG', 'LEASE HOLD PROPERTY TYPE FLAG',\n",
    "                           'PUD PROPERTY TYPE FLAG', 'MANUFACTURE HOUSING PROPERTY TYPE FLAG', 'FREE SIMPLE HOUSING PROPERTY TYPE FLAG', \n",
    "                           'CO OP HOUSING PROPERTY TYPE FLAG', 'ORIGINATION YEAR', 'ORIGINATION QUARTER', 'LOAN PURPOSE IS PURCHASE FLAG',\n",
    "                           'LOAN PURPOSE IS CASH OUT REFINANCE FLAG', 'LOAN PURPOSE IS NO CASH OUT REFINANCE FLAG',\n",
    "                           'SUPER CONFORMING FLAG YES', 'SUPER CONFORMING FLAG NO'))\n",
    "\n",
    "\n",
    "colnames(test) <- c('CREDITSCORE','FIRSTPAYMENTYEAR','FIRSTPAYMENTMONTH',\n",
    "'MATURITYYEAR','MATURITYMONTH',\n",
    "'METROPOLITANSTATISTICALAREA(MSA)ORMETROPOLITANDIVISION',\n",
    "'MORTGAGEINSURANCEPERCENTAGE(MI%)','NUMBEROFUNITS',\n",
    "'ORIGINALCOMBINEDLOAN-TO-VALUE(CLTV)','ORIGINALDEBT-TO-INCOME(DTI)RATIO',\n",
    "'ORIGINALUPB','ORIGINALLOAN-TO-VALUE(LTV)','ORIGINALINTERESTRATE',\n",
    "'POSTALCODE','ORIGINALLOANTERM','NUMBEROFBORROWERS','FIRSTTIMEHOMEBUYERFLAGYES',\n",
    "'FIRSTTIMEHOMEBUYERFLAGNO','FIRSTTIMEHOMEBUYERFLAGNA','METROPOLITAN_AREA_FLAG','MORTGAGE_INSURANCE_FLAG','OWNEROCCUPIEDFLAG','INVESTMENTPROPERTYFLAG',\n",
    "'SECONDHOMESPACEFLAG','RETAILCHANNELFLAG','BROKERCHANNELFLAG','CORRESPONDENTCHANNELFLAG',\n",
    "'TP0NOTSPECIFIEDCHANNELFLAG','PREPAYMENTPENALTYMORTGAGE(PPM)FLAGYES',\n",
    "'PREPAYMENTPENALTYMORTGAGE(PPM)FLAGNO','FIXEDRATEMORTGAGEPRODUCTTYPEFLAGYES',\n",
    "'FIXEDRATEMORTGAGEPRODUCTTYPEFLAGNO','CONDOPROPERTYTYPEFLAG','LEASEHOLDPROPERTYTYPEFLAG',\n",
    "'PUDPROPERTYTYPEFLAG','MANUFACTUREHOUSINGPROPERTYTYPEFLAG','FREESIMPLEHOUSINGPROPERTYTYPEFLAG',\n",
    "'COOPHOUSINGPROPERTYTYPEFLAG','ORIGINATIONYEAR','ORIGINATIONQUARTER','LOANPURPOSEISPURCHASEFLAG',\n",
    "'LOANPURPOSEISCASHOUTREFINANCEFLAG','LOANPURPOSEISNOCASHOUTREFINANCEFLAG',\n",
    "'SUPERCONFORMINGFLAGYES','SUPERCONFORMINGFLAGNO')\n",
    "\n"
   ]
  },
  {
   "cell_type": "code",
   "execution_count": 45,
   "metadata": {
    "collapsed": false
   },
   "outputs": [
    {
     "name": "stderr",
     "output_type": "stream",
     "text": [
      "Warning message in predict.lm(lm.fit, test):\n",
      "\"prediction from a rank-deficient fit may be misleading\""
     ]
    },
    {
     "data": {
      "text/html": [
       "<table>\n",
       "<thead><tr><th></th><th scope=col>ME</th><th scope=col>RMSE</th><th scope=col>MAE</th><th scope=col>MPE</th><th scope=col>MAPE</th></tr></thead>\n",
       "<tbody>\n",
       "\t<tr><th scope=row>Test set</th><td>0.1685502</td><td>0.3997372</td><td>0.3092227</td><td>2.573145 </td><td>5.243713 </td></tr>\n",
       "</tbody>\n",
       "</table>\n"
      ],
      "text/latex": [
       "\\begin{tabular}{r|lllll}\n",
       "  & ME & RMSE & MAE & MPE & MAPE\\\\\n",
       "\\hline\n",
       "\tTest set & 0.1685502 & 0.3997372 & 0.3092227 & 2.573145  & 5.243713 \\\\\n",
       "\\end{tabular}\n"
      ],
      "text/markdown": [
       "\n",
       "| <!--/--> | ME | RMSE | MAE | MPE | MAPE | \n",
       "|---|\n",
       "| Test set | 0.1685502 | 0.3997372 | 0.3092227 | 2.573145  | 5.243713  | \n",
       "\n",
       "\n"
      ],
      "text/plain": [
       "         ME        RMSE      MAE       MPE      MAPE    \n",
       "Test set 0.1685502 0.3997372 0.3092227 2.573145 5.243713"
      ]
     },
     "metadata": {},
     "output_type": "display_data"
    }
   ],
   "source": [
    "pred = predict(lm.fit, test)\n",
    "accuracy(pred, train$ORIGINALINTERESTRATE)"
   ]
  }
 ],
 "metadata": {
  "anaconda-cloud": {},
  "kernelspec": {
   "display_name": "R",
   "language": "R",
   "name": "ir"
  },
  "language_info": {
   "codemirror_mode": "r",
   "file_extension": ".r",
   "mimetype": "text/x-r-source",
   "name": "R",
   "pygments_lexer": "r",
   "version": "3.3.2"
  }
 },
 "nbformat": 4,
 "nbformat_minor": 2
}
