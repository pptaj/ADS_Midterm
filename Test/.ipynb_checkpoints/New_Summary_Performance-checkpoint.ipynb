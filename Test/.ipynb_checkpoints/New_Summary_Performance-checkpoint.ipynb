{
 "cells": [
  {
   "cell_type": "code",
   "execution_count": null,
   "metadata": {
    "collapsed": false
   },
   "outputs": [],
   "source": [
    "import pandas as pd\n",
    "import numpy as np\n",
    "summary = pd.read_csv(\"C://Users/taj/Desktop/cleaned_sample_svcg_2016.csv\",\n",
    "                      usecols = ['LOAN SEQUENCE NUMBER'])            \n",
    "\n",
    "#Distinct count of loan\n",
    "result=summary.groupby([\"LOAN SEQUENCE NUMBER\"])[\"LOAN SEQUENCE NUMBER\"].count().reset_index(name=\"Distinct count of loan\")\n",
    "print(result)\n",
    "\n",
    "summary1 = pd.read_csv(\"C://Users/taj/Desktop/cleaned_sample_svcg_2016.csv\",\n",
    "                      usecols = ['CURRENT ACTUAL UPB','ZERO BALANCE CODE',\"LOAN SEQUENCE NUMBER\"])  \n",
    "\n",
    "#Count of Loans with Current UPB equal to 0, and Zero balance code equal to 1 0r 6\n",
    "sum1 = summary1[(summary1[\"CURRENT ACTUAL UPB\"]==0) & (summary1[\"ZERO BALANCE CODE\"]==1 | (summary1[\"ZERO BALANCE CODE\"]==6)) ]\n",
    "print(sum1[\"LOAN SEQUENCE NUMBER\"].count())\n",
    "\n",
    "summary2 = pd.read_csv(\"C://Users/taj/Desktop/cleaned_sample_svcg_2016.csv\",\n",
    "                      usecols = ['CURRENT ACTUAL UPB','ZERO BALANCE CODE',\"ACTUAL LOSS CALCULATION\"])  \n",
    "\n",
    "#Count of ACTUAL LOSS CALCULATION with Current UPB equal to 0, and Zero balance code equal to 9\n",
    "sum2 = summary2[(summary2[\"CURRENT ACTUAL UPB\"]==0) & (summary2[\"ZERO BALANCE CODE\"]==9) ]\n",
    "print(sum2[\"ACTUAL LOSS CALCULATION\"].sum())\n",
    "\n",
    "\n",
    "summary3 = pd.read_csv(\"C://Users/taj/Desktop/cleaned_sample_svcg_2016.csv\",\n",
    "                      usecols = ['CURRENT ACTUAL UPB','ZERO BALANCE CODE',\"LOAN SEQUENCE NUMBER\"]) \n",
    "\n",
    "#Count of Loans with Current UPB not equal to 0\n",
    "sum3 = summary3[(summary3[\"CURRENT ACTUAL UPB\"]!=0)]\n",
    "print(sum3[\"LOAN SEQUENCE NUMBER\"].count())\n",
    "\n",
    "\n",
    "summary4 = pd.read_csv(\"C://Users/taj/Desktop/cleaned_sample_svcg_2016.csv\",\n",
    "                      usecols = ['CURRENT LOAN DELINQUENCY STATUS',\"LOAN SEQUENCE NUMBER\"]) \n",
    "\n",
    "\n",
    "#Count of Loans with DELINQUENCY STATUS >= 5\n",
    "sum4 = summary4[(summary4[\"CURRENT LOAN DELINQUENCY STATUS\"]>=5)]\n",
    "print(sum4[\"CURRENT LOAN DELINQUENCY STATUS\"].count())\n",
    "\n",
    "summary5 = pd.read_csv(\"C://Users/taj/Desktop/cleaned_sample_svcg_2016.csv\",\n",
    "                      usecols = ['CURRENT ACTUAL UPB','CURRENT LOAN DELINQUENCY STATUS',\"LOAN SEQUENCE NUMBER\"]) \n",
    "\n",
    "\n",
    "#Count of Loans with Current UPB not equal to 0 and DELINQUENCY STATUS >= 0\n",
    "sum5 = summary5[(summary5[\"CURRENT ACTUAL UPB\"] !=0) & (summary5[\"CURRENT LOAN DELINQUENCY STATUS\"]==0)]\n",
    "print(sum5[\"CURRENT LOAN DELINQUENCY STATUS\"].count())\n",
    "\n",
    "summary6 = pd.read_csv(\"C://Users/taj/Desktop/cleaned_sample_svcg_2016.csv\",\n",
    "                      usecols = ['MODIFICATION FLAG',\"LOAN SEQUENCE NUMBER\"]) \n",
    "\n",
    "#Count of Modification flag grouped by Loan Sequence Number\n",
    "sum6=summary6.groupby(['LOAN SEQUENCE NUMBER'])['MODIFICATION FLAG'].count().reset_index(name=\"Number of Modification flag grouped by Loan Sequence Number\")\n",
    "print(sum6)\n"
   ]
  },
  {
   "cell_type": "code",
   "execution_count": 5,
   "metadata": {
    "collapsed": false
   },
   "outputs": [
    {
     "data": {
      "image/png": "[encoded data removed]",
      "text/plain": [
       "<matplotlib.figure.Figure at 0x1fa44c6ab38>"
      ]
     },
     "metadata": {},
     "output_type": "display_data"
    }
   ],
   "source": [
    "import pandas as pd\n",
    "import numpy as np\n",
    "import matplotlib.pyplot as plt\n",
    "pd.__version__\n",
    "%matplotlib inline\n",
    "df=pd.read_csv(\"G:/ADSMidterm/ads_midterm_team7/ads_midterm_team7/PerformanceSummary.csv\")\n",
    "df.head()\n",
    "\n",
    "y = df[\"Actual Loss\"]\n",
    "x = df[\"Year\"]\n",
    "#my_plot.set_xlabel(\"Year\")\n",
    "#my_plot.set_ylabel(\"Actual Loss\")\n",
    "\n",
    "width = 1/1.5\n",
    "plt.bar(x, y,width, color=\"red\")\n",
    "\n",
    "fig = plt.gcf()\n"
   ]
  },
  {
   "cell_type": "code",
   "execution_count": 6,
   "metadata": {
    "collapsed": false
   },
   "outputs": [
    {
     "data": {
      "image/png": "[encoded data removed]",
      "text/plain": [
       "<matplotlib.figure.Figure at 0x1fa45053518>"
      ]
     },
     "metadata": {},
     "output_type": "display_data"
    }
   ],
   "source": [
    "import pandas as pd\n",
    "import numpy as np\n",
    "import matplotlib.pyplot as plt\n",
    "pd.__version__\n",
    "%matplotlib inline\n",
    "df=pd.read_csv(\"G:/ADSMidterm/ads_midterm_team7/ads_midterm_team7/PerformanceSummary.csv\")\n",
    "df.head()\n",
    "\n",
    "y = df[\"Count of Loans\"]\n",
    "x = df[\"Year\"]\n",
    "\n",
    "width = 1/1.5\n",
    "plt.bar(x, y,width, color=\"green\")\n",
    "\n",
    "fig = plt.gcf()\n"
   ]
  },
  {
   "cell_type": "code",
   "execution_count": null,
   "metadata": {
    "collapsed": false
   },
   "outputs": [],
   "source": []
  },
  {
   "cell_type": "code",
   "execution_count": 7,
   "metadata": {
    "collapsed": false
   },
   "outputs": [
    {
     "data": {
      "image/png": "[encoded data removed]",
      "text/plain": [
       "<matplotlib.figure.Figure at 0x1fa455ec438>"
      ]
     },
     "metadata": {},
     "output_type": "display_data"
    }
   ],
   "source": [
    "import pandas as pd\n",
    "import numpy as np\n",
    "import matplotlib.pyplot as plt\n",
    "pd.__version__\n",
    "%matplotlib inline\n",
    "df=pd.read_csv(\"G:/ADSMidterm/ads_midterm_team7/ads_midterm_team7/PerformanceSummary.csv\")\n",
    "df.head()\n",
    "\n",
    "y = df[\"Count Of Loans2\"]\n",
    "x = df[\"Year\"]\n",
    "\n",
    "width = 1/1.5\n",
    "plt.bar(x, y,width, color=\"yellow\")\n",
    "\n",
    "fig = plt.gcf()"
   ]
  }
 ],
 "metadata": {
  "kernelspec": {
   "display_name": "Python 3",
   "language": "python",
   "name": "python3"
  },
  "language_info": {
   "codemirror_mode": {
    "name": "ipython",
    "version": 3
   },
   "file_extension": ".py",
   "mimetype": "text/x-python",
   "name": "python",
   "nbconvert_exporter": "python",
   "pygments_lexer": "ipython3",
   "version": "3.5.3"
  }
 },
 "nbformat": 4,
 "nbformat_minor": 0
}
