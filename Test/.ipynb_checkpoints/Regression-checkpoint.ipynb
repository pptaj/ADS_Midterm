{
 "cells": [
  {
   "cell_type": "code",
   "execution_count": 1,
   "metadata": {
    "collapsed": false
   },
   "outputs": [
    {
     "name": "stdout",
     "output_type": "stream",
     "text": [
      "['CREDIT SCORE', 'FIRST PAYMENT DATE', 'FIRST TIME HOMEBUYER FLAG', 'MATURITY DATE', 'METROPOLITAN STATISTICAL AREA (MSA) OR METROPOLITAN DIVISION', 'MORTGAGE INSURANCE PERCENTAGE (MI %)', 'NUMBER OF UNITS', 'OCCUPANCY STATUS', 'ORIGINAL COMBINED LOAN-TO-VALUE (CLTV)', 'ORIGINAL DEBT-TO-INCOME (DTI) RATIO', 'ORIGINAL UPB', 'ORIGINAL LOAN-TO-VALUE (LTV)', 'ORIGINAL INTEREST RATE', 'CHANNEL', 'PREPAYMENT PENALTY MORTGAGE (PPM) FLAG', 'PRODUCT TYPE', 'PROPERTY STATE', 'PROPERTY TYPE', 'POSTAL CODE', 'LOAN SEQUENCE NUMBER', 'LOAN PURPOSE', 'ORIGINAL LOAN TERM', 'NUMBER OF BORROWERS', 'SELLER NAME', 'SERVICER NAME', 'SUPER CONFORMING FLAG', 'FIRST PAYMENT YEAR', 'FIRST PAYMENT MONTH', 'FIRST TIME HOMEBUYER FLAG YES', 'FIRST TIME HOMEBUYER FLAG NO', 'FIRST TIME HOMEBUYER FLAG NA', 'MATURITY YEAR', 'MATURITY MONTH', 'METROPOLITAN_AREA_FLAG', 'MORTGAGE_INSURANCE_FLAG', 'OWNER OCCUPIED FLAG', 'INVESTMENT PROPERTY FLAG', 'SECOND HOME SPACE FLAG', 'RETAIL CHANNEL FLAG', 'BROKER CHANNEL FLAG', 'CORRESPONDENT CHANNEL FLAG', 'TP0 NOT SPECIFIED CHANNEL FLAG', 'PREPAYMENT PENALTY MORTGAGE (PPM) FLAG YES', 'PREPAYMENT PENALTY MORTGAGE (PPM) FLAG NO', 'FIXED RATE MORTGAGE PRODUCT TYPE FLAG YES', 'FIXED RATE MORTGAGE PRODUCT TYPE FLAG NO', 'CONDO PROPERTY TYPE FLAG', 'LEASE HOLD PROPERTY TYPE FLAG', 'PUD PROPERTY TYPE FLAG', 'MANUFACTURE HOUSING PROPERTY TYPE FLAG', 'FREE SIMPLE HOUSING PROPERTY TYPE FLAG', 'CO OP HOUSING PROPERTY TYPE FLAG', 'ORIGINATION YEAR', 'ORIGINATION QUARTER', 'LOAN PURPOSE IS PURCHASE FLAG', 'LOAN PURPOSE IS CASH OUT REFINANCE FLAG', 'LOAN PURPOSE IS NO CASH OUT REFINANCE FLAG', 'SUPER CONFORMING FLAG YES', 'SUPER CONFORMING FLAG NO']\n"
     ]
    }
   ],
   "source": [
    "import csv\n",
    "with open(\"/home/sneha/Projects /Mid-terms/cleaned/cleaned_historical_data1_Q22000.csv\", \"r\") as f:\n",
    "    d_reader = csv.DictReader(f)\n",
    "#get fieldnames from DictReader object and store in list\n",
    "    headers = d_reader.fieldnames\n",
    "print(headers)"
   ]
  },
  {
   "cell_type": "code",
   "execution_count": 2,
   "metadata": {
    "collapsed": false
   },
   "outputs": [],
   "source": [
    "import pandas as pd\n",
    "df = pd.read_csv (\"/home/sneha/Projects /Mid-terms/cleaned/cleaned_historical_data1_Q22000.csv\",\n",
    "                usecols = ['CREDIT SCORE', 'FIRST PAYMENT DATE','MATURITY DATE',\n",
    "                           'METROPOLITAN STATISTICAL AREA (MSA) OR METROPOLITAN DIVISION', \n",
    "                           'MORTGAGE INSURANCE PERCENTAGE (MI %)', 'NUMBER OF UNITS',\n",
    "                           'ORIGINAL COMBINED LOAN-TO-VALUE (CLTV)', 'ORIGINAL DEBT-TO-INCOME (DTI) RATIO', \n",
    "                           'ORIGINAL UPB', 'ORIGINAL LOAN-TO-VALUE (LTV)', 'ORIGINAL INTEREST RATE',\n",
    "                           'POSTAL CODE','ORIGINAL LOAN TERM','NUMBER OF BORROWERS', 'FIRST TIME HOMEBUYER FLAG YES',\n",
    "                           'FIRST TIME HOMEBUYER FLAG NO', 'FIRST TIME HOMEBUYER FLAG NA', 'MATURITY YEAR', \n",
    "                           'MATURITY MONTH', 'METROPOLITAN_AREA_FLAG', 'MORTGAGE_INSURANCE_FLAG', 'OWNER OCCUPIED FLAG', 'INVESTMENT PROPERTY FLAG', \n",
    "                           'SECOND HOME SPACE FLAG', 'RETAIL CHANNEL FLAG', 'BROKER CHANNEL FLAG', 'CORRESPONDENT CHANNEL FLAG',\n",
    "                           'TP0 NOT SPECIFIED CHANNEL FLAG', 'PREPAYMENT PENALTY MORTGAGE (PPM) FLAG YES', \n",
    "                           'PREPAYMENT PENALTY MORTGAGE (PPM) FLAG NO', 'FIXED RATE MORTGAGE PRODUCT TYPE FLAG YES', \n",
    "                           'FIXED RATE MORTGAGE PRODUCT TYPE FLAG NO', 'CONDO PROPERTY TYPE FLAG', 'LEASE HOLD PROPERTY TYPE FLAG',\n",
    "                           'PUD PROPERTY TYPE FLAG', 'MANUFACTURE HOUSING PROPERTY TYPE FLAG', 'FREE SIMPLE HOUSING PROPERTY TYPE FLAG', \n",
    "                           'CO OP HOUSING PROPERTY TYPE FLAG', 'ORIGINATION YEAR', 'ORIGINATION QUARTER', 'LOAN PURPOSE IS PURCHASE FLAG',\n",
    "                           'LOAN PURPOSE IS CASH OUT REFINANCE FLAG', 'LOAN PURPOSE IS NO CASH OUT REFINANCE FLAG',\n",
    "                           'SUPER CONFORMING FLAG YES', 'SUPER CONFORMING FLAG NO'])\n"
   ]
  },
  {
   "cell_type": "code",
   "execution_count": 3,
   "metadata": {
    "collapsed": false
   },
   "outputs": [],
   "source": [
    "X  = pd.read_csv (\"/home/sneha/Projects /Mid-terms/cleaned/cleaned_historical_data1_Q22000.csv\",\n",
    "                usecols = ['CREDIT SCORE', 'FIRST PAYMENT DATE','MATURITY DATE',\n",
    "                           'METROPOLITAN STATISTICAL AREA (MSA) OR METROPOLITAN DIVISION', \n",
    "                           'MORTGAGE INSURANCE PERCENTAGE (MI %)', 'NUMBER OF UNITS',\n",
    "                           'ORIGINAL COMBINED LOAN-TO-VALUE (CLTV)', 'ORIGINAL DEBT-TO-INCOME (DTI) RATIO', \n",
    "                           'ORIGINAL UPB', 'ORIGINAL LOAN-TO-VALUE (LTV)', \n",
    "                           'POSTAL CODE','ORIGINAL LOAN TERM','NUMBER OF BORROWERS', 'FIRST TIME HOMEBUYER FLAG YES',\n",
    "                           'FIRST TIME HOMEBUYER FLAG NO', 'FIRST TIME HOMEBUYER FLAG NA', 'MATURITY YEAR', \n",
    "                           'MATURITY MONTH', 'METROPOLITAN_AREA_FLAG', 'MORTGAGE_INSURANCE_FLAG', 'OWNER OCCUPIED FLAG', 'INVESTMENT PROPERTY FLAG', \n",
    "                           'SECOND HOME SPACE FLAG', 'RETAIL CHANNEL FLAG', 'BROKER CHANNEL FLAG', 'CORRESPONDENT CHANNEL FLAG',\n",
    "                           'TP0 NOT SPECIFIED CHANNEL FLAG', 'PREPAYMENT PENALTY MORTGAGE (PPM) FLAG YES', \n",
    "                           'PREPAYMENT PENALTY MORTGAGE (PPM) FLAG NO', 'FIXED RATE MORTGAGE PRODUCT TYPE FLAG YES', \n",
    "                           'FIXED RATE MORTGAGE PRODUCT TYPE FLAG NO', 'CONDO PROPERTY TYPE FLAG', 'LEASE HOLD PROPERTY TYPE FLAG',\n",
    "                           'PUD PROPERTY TYPE FLAG', 'MANUFACTURE HOUSING PROPERTY TYPE FLAG', 'FREE SIMPLE HOUSING PROPERTY TYPE FLAG', \n",
    "                           'CO OP HOUSING PROPERTY TYPE FLAG', 'ORIGINATION YEAR', 'ORIGINATION QUARTER', 'LOAN PURPOSE IS PURCHASE FLAG',\n",
    "                           'LOAN PURPOSE IS CASH OUT REFINANCE FLAG', 'LOAN PURPOSE IS NO CASH OUT REFINANCE FLAG',\n",
    "                           'SUPER CONFORMING FLAG YES', 'SUPER CONFORMING FLAG NO'])"
   ]
  },
  {
   "cell_type": "code",
   "execution_count": 4,
   "metadata": {
    "collapsed": false
   },
   "outputs": [],
   "source": [
    "y = pd.read_csv (\"/home/sneha/Projects /Mid-terms/cleaned/cleaned_historical_data1_Q22000.csv\",\n",
    "                usecols = [ 'ORIGINAL INTEREST RATE'])"
   ]
  },
  {
   "cell_type": "code",
   "execution_count": 5,
   "metadata": {
    "collapsed": true
   },
   "outputs": [],
   "source": [
    "X_test  = pd.read_csv (\"/home/sneha/Projects /Mid-terms/cleaned/cleaned_historical_data1_Q32000.csv\",\n",
    "                usecols = ['CREDIT SCORE', 'FIRST PAYMENT DATE','MATURITY DATE',\n",
    "                           'METROPOLITAN STATISTICAL AREA (MSA) OR METROPOLITAN DIVISION', \n",
    "                           'MORTGAGE INSURANCE PERCENTAGE (MI %)', 'NUMBER OF UNITS',\n",
    "                           'ORIGINAL COMBINED LOAN-TO-VALUE (CLTV)', 'ORIGINAL DEBT-TO-INCOME (DTI) RATIO', \n",
    "                           'ORIGINAL UPB', 'ORIGINAL LOAN-TO-VALUE (LTV)', \n",
    "                           'POSTAL CODE','ORIGINAL LOAN TERM','NUMBER OF BORROWERS', 'FIRST TIME HOMEBUYER FLAG YES',\n",
    "                           'FIRST TIME HOMEBUYER FLAG NO', 'FIRST TIME HOMEBUYER FLAG NA', 'MATURITY YEAR', \n",
    "                           'MATURITY MONTH', 'METROPOLITAN_AREA_FLAG', 'MORTGAGE_INSURANCE_FLAG', 'OWNER OCCUPIED FLAG', 'INVESTMENT PROPERTY FLAG', \n",
    "                           'SECOND HOME SPACE FLAG', 'RETAIL CHANNEL FLAG', 'BROKER CHANNEL FLAG', 'CORRESPONDENT CHANNEL FLAG',\n",
    "                           'TP0 NOT SPECIFIED CHANNEL FLAG', 'PREPAYMENT PENALTY MORTGAGE (PPM) FLAG YES', \n",
    "                           'PREPAYMENT PENALTY MORTGAGE (PPM) FLAG NO', 'FIXED RATE MORTGAGE PRODUCT TYPE FLAG YES', \n",
    "                           'FIXED RATE MORTGAGE PRODUCT TYPE FLAG NO', 'CONDO PROPERTY TYPE FLAG', 'LEASE HOLD PROPERTY TYPE FLAG',\n",
    "                           'PUD PROPERTY TYPE FLAG', 'MANUFACTURE HOUSING PROPERTY TYPE FLAG', 'FREE SIMPLE HOUSING PROPERTY TYPE FLAG', \n",
    "                           'CO OP HOUSING PROPERTY TYPE FLAG', 'ORIGINATION YEAR', 'ORIGINATION QUARTER', 'LOAN PURPOSE IS PURCHASE FLAG',\n",
    "                           'LOAN PURPOSE IS CASH OUT REFINANCE FLAG', 'LOAN PURPOSE IS NO CASH OUT REFINANCE FLAG',\n",
    "                           'SUPER CONFORMING FLAG YES', 'SUPER CONFORMING FLAG NO'])"
   ]
  },
  {
   "cell_type": "code",
   "execution_count": 6,
   "metadata": {
    "collapsed": false
   },
   "outputs": [
    {
     "name": "stderr",
     "output_type": "stream",
     "text": [
      "/usr/local/lib/python3.5/dist-packages/sklearn/cross_validation.py:44: DeprecationWarning: This module was deprecated in version 0.18 in favor of the model_selection module into which all the refactored classes and functions are moved. Also note that the interface of the new CV iterators are different from that of this module. This module will be removed in 0.20.\n",
      "  \"This module will be removed in 0.20.\", DeprecationWarning)\n",
      "/usr/local/lib/python3.5/dist-packages/sklearn/grid_search.py:43: DeprecationWarning: This module was deprecated in version 0.18 in favor of the model_selection module into which all the refactored classes and functions are moved. This module will be removed in 0.20.\n",
      "  DeprecationWarning)\n",
      "/usr/local/lib/python3.5/dist-packages/sklearn/lda.py:6: DeprecationWarning: lda.LDA has been moved to discriminant_analysis.LinearDiscriminantAnalysis in 0.17 and will be removed in 0.19\n",
      "  \"in 0.17 and will be removed in 0.19\", DeprecationWarning)\n",
      "/usr/local/lib/python3.5/dist-packages/sklearn/learning_curve.py:23: DeprecationWarning: This module was deprecated in version 0.18 in favor of the model_selection module into which all the functions are moved. This module will be removed in 0.20\n",
      "  DeprecationWarning)\n",
      "/usr/local/lib/python3.5/dist-packages/sklearn/qda.py:6: DeprecationWarning: qda.QDA has been moved to discriminant_analysis.QuadraticDiscriminantAnalysis in 0.17 and will be removed in 0.19.\n",
      "  \"in 0.17 and will be removed in 0.19.\", DeprecationWarning)\n"
     ]
    },
    {
     "data": {
      "text/plain": [
       "LinearRegression(copy_X=True, fit_intercept=True, n_jobs=1, normalize=False)"
      ]
     },
     "execution_count": 6,
     "metadata": {},
     "output_type": "execute_result"
    }
   ],
   "source": [
    "import sklearn \n",
    "from sklearn import *\n",
    "import numpy as np\n",
    "from sklearn.cross_validation import train_test_split\n",
    "from sklearn import linear_model\n",
    "\n",
    "lm = linear_model.LinearRegression()\n",
    "lm.fit(X,y)"
   ]
  },
  {
   "cell_type": "code",
   "execution_count": 8,
   "metadata": {
    "collapsed": false
   },
   "outputs": [],
   "source": [
    "y_test  = lm.predict(X_test)\n"
   ]
  },
  {
   "cell_type": "code",
   "execution_count": 9,
   "metadata": {
    "collapsed": false
   },
   "outputs": [
    {
     "name": "stdout",
     "output_type": "stream",
     "text": [
      "-0.342413985604\n"
     ]
    }
   ],
   "source": [
    "from sklearn.metrics import *\n",
    "print(r2_score(y,y_test[:196768,]))\n"
   ]
  }
 ],
 "metadata": {
  "kernelspec": {
   "display_name": "Python 3",
   "language": "python",
   "name": "python3"
  },
  "language_info": {
   "codemirror_mode": {
    "name": "ipython",
    "version": 3
   },
   "file_extension": ".py",
   "mimetype": "text/x-python",
   "name": "python",
   "nbconvert_exporter": "python",
   "pygments_lexer": "ipython3",
   "version": "3.5.2"
  }
 },
 "nbformat": 4,
 "nbformat_minor": 2
}
