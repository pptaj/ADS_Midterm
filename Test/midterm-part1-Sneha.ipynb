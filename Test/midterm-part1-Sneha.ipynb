{
 "cells": [
  {
   "cell_type": "code",
   "execution_count": 118,
   "metadata": {
    "collapsed": false,
    "scrolled": true
   },
   "outputs": [
    {
     "name": "stderr",
     "output_type": "stream",
     "text": [
      "/home/sneha/.local/lib/python3.5/site-packages/IPython/core/interactiveshell.py:2717: DtypeWarning: Columns (3,7,14) have mixed types. Specify dtype option on import or set low_memory=False.\n",
      "  interactivity=interactivity, compiler=compiler, result=result)\n"
     ]
    }
   ],
   "source": [
    "import pandas as pd\n",
    "performance = pd.read_csv(\"/home/sneha/Projects /Mid-terms/sample_svcg_1999.txt\",sep=\"|\", header=None, \n",
    "               names = [\"LOAN SEQUENCE NUMBER\", \n",
    "                        \"MONTHLY REPORTING PERIOD\", \n",
    "                        \"CURRENT ACTUAL UPB\", \n",
    "                        \"CURRENT LOAN DELINQUENCY STATUS\",\n",
    "                        \"LOAN AGE\",\n",
    "                        \"REMAINING MONTHS TO LEGAL MATURITY\",\n",
    "                        \"REPURCHASE FLAG\",\n",
    "                        \"MODIFICATION FLAG\",\n",
    "                        \"ZERO BALANCE CODE\",\n",
    "                        \"ZERO BALANCE EFFECTIVE DATE\",\n",
    "                        \"CURRENT INTEREST RATE\",\n",
    "                        \"CURRENT DEFERRED UPB\",\n",
    "                        \"DUE DATE OF LAST PAID INSTALLMENT\",\n",
    "                        \"MI RECOVERIES\",\n",
    "                        \"NET SALES PROCEEDS\",\n",
    "                        \"NON MI RECOVERIES\",\n",
    "                        \"EXPENSES\",\n",
    "                        \"Legal Costs\",\n",
    "                        \"Maintenance and Preservation Costs\",\n",
    "                        \"Taxes and Insurance\",\n",
    "                        \"Miscellaneous Expenses\",\n",
    "                        \"Actual Loss Calculation\",\n",
    "                        \"Modification Cost\"\n",
    "                       ])\n",
    "\n",
    "#with open(\"/home/sneha/Projects /Mid-terms/sample_svcg_1999.txt\",\"r\" ) as infile: data = infile.read() fields = data.split('|') print(data[0])"
   ]
  },
  {
   "cell_type": "code",
   "execution_count": 1,
   "metadata": {
    "collapsed": false
   },
   "outputs": [
    {
     "ename": "NameError",
     "evalue": "name 'pd' is not defined",
     "output_type": "error",
     "traceback": [
      "\u001b[1;31m---------------------------------------------------------------------------\u001b[0m",
      "\u001b[1;31mNameError\u001b[0m                                 Traceback (most recent call last)",
      "\u001b[1;32m<ipython-input-1-516ffbbe3a08>\u001b[0m in \u001b[0;36m<module>\u001b[1;34m()\u001b[0m\n\u001b[1;32m----> 1\u001b[1;33m orig_file = pd.read_csv(\"/home/sneha/Projects /Mid-terms/sample_orig_1999.txt\",sep=\"|\", header=None, \n\u001b[0m\u001b[0;32m      2\u001b[0m                names = [\"CREDIT SCORE\",\n\u001b[0;32m      3\u001b[0m                         \u001b[1;34m\"FIRST PAYMENT DATE\"\u001b[0m\u001b[1;33m,\u001b[0m\u001b[1;33m\u001b[0m\u001b[0m\n\u001b[0;32m      4\u001b[0m                         \u001b[1;34m\"FIRST TIME HOMEBUYER FLAG\"\u001b[0m\u001b[1;33m,\u001b[0m\u001b[1;33m\u001b[0m\u001b[0m\n\u001b[0;32m      5\u001b[0m                         \u001b[1;34m\"MATURITY DATE\"\u001b[0m\u001b[1;33m,\u001b[0m\u001b[1;33m\u001b[0m\u001b[0m\n",
      "\u001b[1;31mNameError\u001b[0m: name 'pd' is not defined"
     ]
    }
   ],
   "source": [
    "orig_file = pd.read_csv(\"/home/sneha/Projects /Mid-terms/sample_orig_1999.txt\",sep=\"|\", header=None, \n",
    "               names = [\"CREDIT SCORE\",\n",
    "                        \"FIRST PAYMENT DATE\",\n",
    "                        \"FIRST TIME HOMEBUYER FLAG\",\n",
    "                        \"MATURITY DATE\",\n",
    "                        \"METROPOLITAN STATISTICAL AREA (MSA) OR METROPOLITAN DIVISION\",\n",
    "                        \"MORTGAGE INSURANCE PERCENTAGE (MI %)\",\n",
    "                        \"NUMBER OF UNITS\",\n",
    "                        \"OCCUPANCY STATUS\",\n",
    "                        \"ORIGINAL COMBINED LOAN-TO-VALUE (CLTV)\",\n",
    "                        \"ORIGINAL DEBT-TO-INCOME (DTI) RATIO\",\n",
    "                        \"ORIGINAL UPB\",\n",
    "                        \"ORIGINAL LOAN-TO-VALUE (LTV)\",\n",
    "                        \"ORIGINAL INTEREST RATE\",\n",
    "                        \"CHANNEL\",\n",
    "                        \"PREPAYMENT PENALTY MORTGAGE (PPM) FLAG\",\n",
    "                        \"PRODUCT TYPE\",\n",
    "                        \"PROPERTY STATE\",\n",
    "                        \"PROPERTY TYPE\",\n",
    "                        \"POSTAL CODE\",\n",
    "                        \"LOAN SEQUENCE NUMBER\",\n",
    "                        \"LOAN PURPOSE\",\n",
    "                        \"ORIGINAL LOAN TERM\",\n",
    "                        \"NUMBER OF BORROWERS\",\n",
    "                        \"SELLER NAME\",\n",
    "                        \"SERVICER NAME\",\n",
    "                        \"Super Conforming Flag\"\n",
    "                       ])\n",
    "\n",
    "\n",
    "\n"
   ]
  },
  {
   "cell_type": "code",
   "execution_count": 143,
   "metadata": {
    "collapsed": false
   },
   "outputs": [
    {
     "data": {
      "text/plain": [
       "pandas.core.series.Series"
      ]
     },
     "execution_count": 143,
     "metadata": {},
     "output_type": "execute_result"
    }
   ],
   "source": [
    "type(orig_file['METROPOLITAN STATISTICAL AREA (MSA) OR METROPOLITAN DIVISION'])"
   ]
  },
  {
   "cell_type": "code",
   "execution_count": 146,
   "metadata": {
    "collapsed": false,
    "scrolled": true
   },
   "outputs": [
    {
     "data": {
      "text/plain": [
       "0"
      ]
     },
     "execution_count": 146,
     "metadata": {},
     "output_type": "execute_result"
    }
   ],
   "source": [
    "(orig_file['OCCUPANCY STATUS'].isnull().sum() )                 "
   ]
  },
  {
   "cell_type": "code",
   "execution_count": 2,
   "metadata": {
    "collapsed": false
   },
   "outputs": [
    {
     "ename": "NameError",
     "evalue": "name 'orig_file' is not defined",
     "output_type": "error",
     "traceback": [
      "\u001b[1;31m---------------------------------------------------------------------------\u001b[0m",
      "\u001b[1;31mNameError\u001b[0m                                 Traceback (most recent call last)",
      "\u001b[1;32m<ipython-input-2-399be4a121bd>\u001b[0m in \u001b[0;36m<module>\u001b[1;34m()\u001b[0m\n\u001b[1;32m----> 1\u001b[1;33m \u001b[0morig_file\u001b[0m\u001b[1;33m[\u001b[0m\u001b[1;36m4\u001b[0m\u001b[1;33m:\u001b[0m\u001b[1;36m9\u001b[0m\u001b[1;33m]\u001b[0m\u001b[1;33m\u001b[0m\u001b[0m\n\u001b[0m",
      "\u001b[1;31mNameError\u001b[0m: name 'orig_file' is not defined"
     ]
    }
   ],
   "source": [
    "orig_file[4:9]"
   ]
  },
  {
   "cell_type": "code",
   "execution_count": 148,
   "metadata": {
    "collapsed": false
   },
   "outputs": [
    {
     "data": {
      "text/plain": [
       "0"
      ]
     },
     "execution_count": 148,
     "metadata": {},
     "output_type": "execute_result"
    }
   ],
   "source": [
    "#np.where(orig_file.applymap(lambda x: x == ''))\n",
    "(orig_file['NUMBER OF UNITS'].isnull().sum())\n"
   ]
  },
  {
   "cell_type": "code",
   "execution_count": 129,
   "metadata": {
    "collapsed": false
   },
   "outputs": [
    {
     "ename": "TypeError",
     "evalue": "count() takes at least 1 argument (0 given)",
     "output_type": "error",
     "traceback": [
      "\u001b[0;31m---------------------------------------------------------------------------\u001b[0m",
      "\u001b[0;31mTypeError\u001b[0m                                 Traceback (most recent call last)",
      "\u001b[0;32m<ipython-input-129-ab4b6ed34b48>\u001b[0m in \u001b[0;36m<module>\u001b[0;34m()\u001b[0m\n\u001b[0;32m----> 1\u001b[0;31m \u001b[0morig_file\u001b[0m\u001b[0;34m[\u001b[0m\u001b[0;34m'FIRST TIME HOMEBUYER FLAG'\u001b[0m\u001b[0;34m]\u001b[0m\u001b[0;34m.\u001b[0m\u001b[0mapply\u001b[0m\u001b[0;34m(\u001b[0m\u001b[0;32mlambda\u001b[0m \u001b[0mx\u001b[0m\u001b[0;34m:\u001b[0m \u001b[0mx\u001b[0m\u001b[0;34m.\u001b[0m\u001b[0mcount\u001b[0m\u001b[0;34m(\u001b[0m\u001b[0;34m)\u001b[0m\u001b[0;34m)\u001b[0m\u001b[0;34m\u001b[0m\u001b[0m\n\u001b[0m",
      "\u001b[0;32m/home/sneha/.local/lib/python3.5/site-packages/pandas/core/series.py\u001b[0m in \u001b[0;36mapply\u001b[0;34m(self, func, convert_dtype, args, **kwds)\u001b[0m\n\u001b[1;32m   2292\u001b[0m             \u001b[0;32melse\u001b[0m\u001b[0;34m:\u001b[0m\u001b[0;34m\u001b[0m\u001b[0m\n\u001b[1;32m   2293\u001b[0m                 \u001b[0mvalues\u001b[0m \u001b[0;34m=\u001b[0m \u001b[0mself\u001b[0m\u001b[0;34m.\u001b[0m\u001b[0masobject\u001b[0m\u001b[0;34m\u001b[0m\u001b[0m\n\u001b[0;32m-> 2294\u001b[0;31m                 \u001b[0mmapped\u001b[0m \u001b[0;34m=\u001b[0m \u001b[0mlib\u001b[0m\u001b[0;34m.\u001b[0m\u001b[0mmap_infer\u001b[0m\u001b[0;34m(\u001b[0m\u001b[0mvalues\u001b[0m\u001b[0;34m,\u001b[0m \u001b[0mf\u001b[0m\u001b[0;34m,\u001b[0m \u001b[0mconvert\u001b[0m\u001b[0;34m=\u001b[0m\u001b[0mconvert_dtype\u001b[0m\u001b[0;34m)\u001b[0m\u001b[0;34m\u001b[0m\u001b[0m\n\u001b[0m\u001b[1;32m   2295\u001b[0m \u001b[0;34m\u001b[0m\u001b[0m\n\u001b[1;32m   2296\u001b[0m         \u001b[0;32mif\u001b[0m \u001b[0mlen\u001b[0m\u001b[0;34m(\u001b[0m\u001b[0mmapped\u001b[0m\u001b[0;34m)\u001b[0m \u001b[0;32mand\u001b[0m \u001b[0misinstance\u001b[0m\u001b[0;34m(\u001b[0m\u001b[0mmapped\u001b[0m\u001b[0;34m[\u001b[0m\u001b[0;36m0\u001b[0m\u001b[0;34m]\u001b[0m\u001b[0;34m,\u001b[0m \u001b[0mSeries\u001b[0m\u001b[0;34m)\u001b[0m\u001b[0;34m:\u001b[0m\u001b[0;34m\u001b[0m\u001b[0m\n",
      "\u001b[0;32mpandas/src/inference.pyx\u001b[0m in \u001b[0;36mpandas.lib.map_infer (pandas/lib.c:66124)\u001b[0;34m()\u001b[0m\n",
      "\u001b[0;32m<ipython-input-129-ab4b6ed34b48>\u001b[0m in \u001b[0;36m<lambda>\u001b[0;34m(x)\u001b[0m\n\u001b[0;32m----> 1\u001b[0;31m \u001b[0morig_file\u001b[0m\u001b[0;34m[\u001b[0m\u001b[0;34m'FIRST TIME HOMEBUYER FLAG'\u001b[0m\u001b[0;34m]\u001b[0m\u001b[0;34m.\u001b[0m\u001b[0mapply\u001b[0m\u001b[0;34m(\u001b[0m\u001b[0;32mlambda\u001b[0m \u001b[0mx\u001b[0m\u001b[0;34m:\u001b[0m \u001b[0mx\u001b[0m\u001b[0;34m.\u001b[0m\u001b[0mcount\u001b[0m\u001b[0;34m(\u001b[0m\u001b[0;34m)\u001b[0m\u001b[0;34m)\u001b[0m\u001b[0;34m\u001b[0m\u001b[0m\n\u001b[0m",
      "\u001b[0;31mTypeError\u001b[0m: count() takes at least 1 argument (0 given)"
     ]
    }
   ],
   "source": [
    "import numpy as np\n",
    "genfromtxt(\"missing1.dat\", delimiter=\"|\", filling_values=99)"
   ]
  },
  {
   "cell_type": "raw",
   "metadata": {},
   "source": [
    "#x.loc[x['CURRENT LOAN DELINQUENCY STATUS'].]\n",
    "#x['ZERO BALANCE CODE'].replace(r'\\s+', \"Not Applicable\", regex=True)\n",
    "#print (any(x['CURRENT LOAN DELINQUENCY STATUS'] ==  \"\"))\n",
    "#print(x['LOAN SEQUENCE NUMBER'] == \"F199Q1000012\")\n",
    "#print([x['LOAN SEQUENCE NUMBER].astype(str).str.contains('F199Q1000012')]\n",
    "#(orig_file['CREDIT SCORE'].isnull().sum())\n"
   ]
  }
 ],
 "metadata": {
  "kernelspec": {
   "display_name": "Python 3",
   "language": "python",
   "name": "python3"
  },
  "language_info": {
   "codemirror_mode": {
    "name": "ipython",
    "version": 3
   },
   "file_extension": ".py",
   "mimetype": "text/x-python",
   "name": "python",
   "nbconvert_exporter": "python",
   "pygments_lexer": "ipython3",
   "version": "3.5.3"
  }
 },
 "nbformat": 4,
 "nbformat_minor": 2
}
