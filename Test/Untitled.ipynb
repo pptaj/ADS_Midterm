{
 "cells": [
  {
   "cell_type": "code",
   "execution_count": 2,
   "metadata": {
    "collapsed": false
   },
   "outputs": [
    {
     "name": "stderr",
     "output_type": "stream",
     "text": [
      "Warning message in install.packages(\"data.table\", repos = \"http://cran.us.r-project.org\"):\n",
      "\"'lib = \"C:/Program Files/Anaconda3/R/library\"' is not writable\""
     ]
    },
    {
     "ename": "ERROR",
     "evalue": "Error in install.packages(\"data.table\", repos = \"http://cran.us.r-project.org\"): unable to install packages\n",
     "output_type": "error",
     "traceback": [
      "Error in install.packages(\"data.table\", repos = \"http://cran.us.r-project.org\"): unable to install packages\nTraceback:\n",
      "1. install.packages(\"data.table\", repos = \"http://cran.us.r-project.org\")",
      "2. stop(\"unable to install packages\")"
     ]
    }
   ],
   "source": [
    "install.packages(\"data.table\",repos = \"http://cran.us.r-project.org\")\n",
    "library(data.table)\n",
    "setwd(\"E:/Dropbox/1- Spring 2017 Courses/ADS/Midterm/ads_midterm_team7/\")\n",
    "performance_train <- fread(\"cleaned/cleaned_sample_svcg_2005.csv\",\n",
    "                    select=c(\"LOAN SEQUENCE NUMBER\",\n",
    "                      \"CURRENT ACTUAL UPB\",\n",
    "                             \"LOAN AGE\", \"REMAINING MONTHS TO LEGAL MATURITY\",\n",
    "                             \"ZERO BALANCE CODE\",\n",
    "                             \"CURRENT INTEREST RATE\",\n",
    "                             \"MONTHLY REPORTING YEAR\",\n",
    "                             \"MONTHLY REPORTING MONTH\", \"DELINQUENT\", \"REPURCHASE FLAG YES\", \"MODIFICATION FLAG YES\",\n",
    "                             \"ZERO BALANCE EFFECTIVE YEAR\", \"ZERO BALANCE EFFECTIVE MONTH\",\n",
    "                             \"DUE DATE OF LAST PAID INSTALLMENT YEAR\", \"DUE DATE OF LAST PAID INSTALLMENT MONTH\"))\n",
    "\n"
   ]
  }
 ],
 "metadata": {
  "kernelspec": {
   "display_name": "R",
   "language": "R",
   "name": "ir"
  },
  "language_info": {
   "codemirror_mode": "r",
   "file_extension": ".r",
   "mimetype": "text/x-r-source",
   "name": "R",
   "pygments_lexer": "r",
   "version": "3.3.2"
  }
 },
 "nbformat": 4,
 "nbformat_minor": 1
}
