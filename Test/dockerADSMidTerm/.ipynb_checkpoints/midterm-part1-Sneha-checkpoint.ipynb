{
 "cells": [
  {
   "cell_type": "code",
   "execution_count": 118,
   "metadata": {
    "collapsed": false,
    "scrolled": true
   },
   "outputs": [
    {
     "name": "stderr",
     "output_type": "stream",
     "text": [
      "/home/sneha/.local/lib/python3.5/site-packages/IPython/core/interactiveshell.py:2717: DtypeWarning: Columns (3,7,14) have mixed types. Specify dtype option on import or set low_memory=False.\n",
      "  interactivity=interactivity, compiler=compiler, result=result)\n"
     ]
    }
   ],
   "source": [
    "import pandas as pd\n",
    "performance = pd.read_csv(\"/home/sneha/Projects /Mid-terms/sample_svcg_1999.txt\",sep=\"|\", header=None, \n",
    "               names = [\"LOAN SEQUENCE NUMBER\", \n",
    "                        \"MONTHLY REPORTING PERIOD\", \n",
    "                        \"CURRENT ACTUAL UPB\", \n",
    "                        \"CURRENT LOAN DELINQUENCY STATUS\",\n",
    "                        \"LOAN AGE\",\n",
    "                        \"REMAINING MONTHS TO LEGAL MATURITY\",\n",
    "                        \"REPURCHASE FLAG\",\n",
    "                        \"MODIFICATION FLAG\",\n",
    "                        \"ZERO BALANCE CODE\",\n",
    "                        \"ZERO BALANCE EFFECTIVE DATE\",\n",
    "                        \"CURRENT INTEREST RATE\",\n",
    "                        \"CURRENT DEFERRED UPB\",\n",
    "                        \"DUE DATE OF LAST PAID INSTALLMENT\",\n",
    "                        \"MI RECOVERIES\",\n",
    "                        \"NET SALES PROCEEDS\",\n",
    "                        \"NON MI RECOVERIES\",\n",
    "                        \"EXPENSES\",\n",
    "                        \"Legal Costs\",\n",
    "                        \"Maintenance and Preservation Costs\",\n",
    "                        \"Taxes and Insurance\",\n",
    "                        \"Miscellaneous Expenses\",\n",
    "                        \"Actual Loss Calculation\",\n",
    "                        \"Modification Cost\"\n",
    "                       ])\n",
    "\n",
    "#with open(\"/home/sneha/Projects /Mid-terms/sample_svcg_1999.txt\",\"r\" ) as infile: data = infile.read() fields = data.split('|') print(data[0])"
   ]
  },
  {
   "cell_type": "code",
   "execution_count": 147,
   "metadata": {
    "collapsed": false
   },
   "outputs": [],
   "source": [
    "orig_file = pd.read_csv(\"/home/sneha/Projects /Mid-terms/sample_orig_1999.txt\",sep=\"|\", header=None, \n",
    "               names = [\"CREDIT SCORE\",\n",
    "                        \"FIRST PAYMENT DATE\",\n",
    "                        \"FIRST TIME HOMEBUYER FLAG\",\n",
    "                        \"MATURITY DATE\",\n",
    "                        \"METROPOLITAN STATISTICAL AREA (MSA) OR METROPOLITAN DIVISION\",\n",
    "                        \"MORTGAGE INSURANCE PERCENTAGE (MI %)\",\n",
    "                        \"NUMBER OF UNITS\",\n",
    "                        \"OCCUPANCY STATUS\",\n",
    "                        \"ORIGINAL COMBINED LOAN-TO-VALUE (CLTV)\",\n",
    "                        \"ORIGINAL DEBT-TO-INCOME (DTI) RATIO\",\n",
    "                        \"ORIGINAL UPB\",\n",
    "                        \"ORIGINAL LOAN-TO-VALUE (LTV)\",\n",
    "                        \"ORIGINAL INTEREST RATE\",\n",
    "                        \"CHANNEL\",\n",
    "                        \"PREPAYMENT PENALTY MORTGAGE (PPM) FLAG\",\n",
    "                        \"PRODUCT TYPE\",\n",
    "                        \"PROPERTY STATE\",\n",
    "                        \"PROPERTY TYPE\",\n",
    "                        \"POSTAL CODE\",\n",
    "                        \"LOAN SEQUENCE NUMBER\",\n",
    "                        \"LOAN PURPOSE\",\n",
    "                        \"ORIGINAL LOAN TERM\",\n",
    "                        \"NUMBER OF BORROWERS\",\n",
    "                        \"SELLER NAME\",\n",
    "                        \"SERVICER NAME\",\n",
    "                        \"Super Conforming Flag\"\n",
    "                       ])\n",
    "\n",
    "\n",
    "\n"
   ]
  },
  {
   "cell_type": "code",
   "execution_count": 143,
   "metadata": {
    "collapsed": false
   },
   "outputs": [
    {
     "data": {
      "text/plain": [
       "pandas.core.series.Series"
      ]
     },
     "execution_count": 143,
     "metadata": {},
     "output_type": "execute_result"
    }
   ],
   "source": [
    "type(orig_file['METROPOLITAN STATISTICAL AREA (MSA) OR METROPOLITAN DIVISION'])"
   ]
  },
  {
   "cell_type": "code",
   "execution_count": 146,
   "metadata": {
    "collapsed": false,
    "scrolled": true
   },
   "outputs": [
    {
     "data": {
      "text/plain": [
       "0"
      ]
     },
     "execution_count": 146,
     "metadata": {},
     "output_type": "execute_result"
    }
   ],
   "source": [
    "(orig_file['OCCUPANCY STATUS'].isnull().sum() )                 "
   ]
  },
  {
   "cell_type": "code",
   "execution_count": 149,
   "metadata": {
    "collapsed": false
   },
   "outputs": [
    {
     "data": {
      "text/html": [
       "<div>\n",
       "<table border=\"1\" class=\"dataframe\">\n",
       "  <thead>\n",
       "    <tr style=\"text-align: right;\">\n",
       "      <th></th>\n",
       "      <th>CREDIT SCORE</th>\n",
       "      <th>FIRST PAYMENT DATE</th>\n",
       "      <th>FIRST TIME HOMEBUYER FLAG</th>\n",
       "      <th>MATURITY DATE</th>\n",
       "      <th>METROPOLITAN STATISTICAL AREA (MSA) OR METROPOLITAN DIVISION</th>\n",
       "      <th>MORTGAGE INSURANCE PERCENTAGE (MI %)</th>\n",
       "      <th>NUMBER OF UNITS</th>\n",
       "      <th>OCCUPANCY STATUS</th>\n",
       "      <th>ORIGINAL COMBINED LOAN-TO-VALUE (CLTV)</th>\n",
       "      <th>ORIGINAL DEBT-TO-INCOME (DTI) RATIO</th>\n",
       "      <th>...</th>\n",
       "      <th>PROPERTY STATE</th>\n",
       "      <th>PROPERTY TYPE</th>\n",
       "      <th>POSTAL CODE</th>\n",
       "      <th>LOAN SEQUENCE NUMBER</th>\n",
       "      <th>LOAN PURPOSE</th>\n",
       "      <th>ORIGINAL LOAN TERM</th>\n",
       "      <th>NUMBER OF BORROWERS</th>\n",
       "      <th>SELLER NAME</th>\n",
       "      <th>SERVICER NAME</th>\n",
       "      <th>Super Conforming Flag</th>\n",
       "    </tr>\n",
       "  </thead>\n",
       "  <tbody>\n",
       "    <tr>\n",
       "      <th>4</th>\n",
       "      <td>748</td>\n",
       "      <td>199905</td>\n",
       "      <td>NaN</td>\n",
       "      <td>202904</td>\n",
       "      <td>17140.0</td>\n",
       "      <td></td>\n",
       "      <td>1</td>\n",
       "      <td>O</td>\n",
       "      <td>80</td>\n",
       "      <td>28</td>\n",
       "      <td>...</td>\n",
       "      <td>OH</td>\n",
       "      <td>SF</td>\n",
       "      <td>45200.0</td>\n",
       "      <td>F199Q1000097</td>\n",
       "      <td>N</td>\n",
       "      <td>360</td>\n",
       "      <td>2.0</td>\n",
       "      <td>Other sellers</td>\n",
       "      <td>Other servicers</td>\n",
       "      <td>NaN</td>\n",
       "    </tr>\n",
       "    <tr>\n",
       "      <th>5</th>\n",
       "      <td>720</td>\n",
       "      <td>199905</td>\n",
       "      <td>NaN</td>\n",
       "      <td>202904</td>\n",
       "      <td>42044.0</td>\n",
       "      <td></td>\n",
       "      <td>1</td>\n",
       "      <td>I</td>\n",
       "      <td>24</td>\n",
       "      <td>11</td>\n",
       "      <td>...</td>\n",
       "      <td>CA</td>\n",
       "      <td>SF</td>\n",
       "      <td>92800.0</td>\n",
       "      <td>F199Q1000109</td>\n",
       "      <td>C</td>\n",
       "      <td>360</td>\n",
       "      <td>2.0</td>\n",
       "      <td>NORWEST MORTGAGE, IN</td>\n",
       "      <td>WELLSFARGOHOMEMORTGA</td>\n",
       "      <td>NaN</td>\n",
       "    </tr>\n",
       "    <tr>\n",
       "      <th>6</th>\n",
       "      <td>695</td>\n",
       "      <td>199905</td>\n",
       "      <td>NaN</td>\n",
       "      <td>202904</td>\n",
       "      <td>42044.0</td>\n",
       "      <td>000</td>\n",
       "      <td>1</td>\n",
       "      <td>O</td>\n",
       "      <td>40</td>\n",
       "      <td>6</td>\n",
       "      <td>...</td>\n",
       "      <td>CA</td>\n",
       "      <td>SF</td>\n",
       "      <td>92800.0</td>\n",
       "      <td>F199Q1000121</td>\n",
       "      <td>C</td>\n",
       "      <td>360</td>\n",
       "      <td>2.0</td>\n",
       "      <td>NATIONSBANC MORTGAGE</td>\n",
       "      <td>BAMORTGAGE,LLC</td>\n",
       "      <td>NaN</td>\n",
       "    </tr>\n",
       "    <tr>\n",
       "      <th>7</th>\n",
       "      <td>703</td>\n",
       "      <td>199905</td>\n",
       "      <td>N</td>\n",
       "      <td>202904</td>\n",
       "      <td>40140.0</td>\n",
       "      <td></td>\n",
       "      <td>1</td>\n",
       "      <td>O</td>\n",
       "      <td>68</td>\n",
       "      <td>22</td>\n",
       "      <td>...</td>\n",
       "      <td>CA</td>\n",
       "      <td>SF</td>\n",
       "      <td>92500.0</td>\n",
       "      <td>F199Q1000133</td>\n",
       "      <td>N</td>\n",
       "      <td>360</td>\n",
       "      <td>2.0</td>\n",
       "      <td>NORWEST MORTGAGE, IN</td>\n",
       "      <td>WELLSFARGOHOMEMORTGA</td>\n",
       "      <td>NaN</td>\n",
       "    </tr>\n",
       "    <tr>\n",
       "      <th>8</th>\n",
       "      <td>737</td>\n",
       "      <td>199903</td>\n",
       "      <td>N</td>\n",
       "      <td>202902</td>\n",
       "      <td>42044.0</td>\n",
       "      <td></td>\n",
       "      <td>1</td>\n",
       "      <td>O</td>\n",
       "      <td>67</td>\n",
       "      <td>35</td>\n",
       "      <td>...</td>\n",
       "      <td>CA</td>\n",
       "      <td>SF</td>\n",
       "      <td>92600.0</td>\n",
       "      <td>F199Q1000157</td>\n",
       "      <td>C</td>\n",
       "      <td>360</td>\n",
       "      <td>1.0</td>\n",
       "      <td>Other sellers</td>\n",
       "      <td>Other servicers</td>\n",
       "      <td>NaN</td>\n",
       "    </tr>\n",
       "  </tbody>\n",
       "</table>\n",
       "<p>5 rows × 26 columns</p>\n",
       "</div>"
      ],
      "text/plain": [
       "  CREDIT SCORE  FIRST PAYMENT DATE FIRST TIME HOMEBUYER FLAG  MATURITY DATE  \\\n",
       "4          748              199905                       NaN         202904   \n",
       "5          720              199905                       NaN         202904   \n",
       "6          695              199905                       NaN         202904   \n",
       "7          703              199905                         N         202904   \n",
       "8          737              199903                         N         202902   \n",
       "\n",
       "   METROPOLITAN STATISTICAL AREA (MSA) OR METROPOLITAN DIVISION  \\\n",
       "4                                            17140.0              \n",
       "5                                            42044.0              \n",
       "6                                            42044.0              \n",
       "7                                            40140.0              \n",
       "8                                            42044.0              \n",
       "\n",
       "  MORTGAGE INSURANCE PERCENTAGE (MI %)  NUMBER OF UNITS OCCUPANCY STATUS  \\\n",
       "4                                                     1                O   \n",
       "5                                                     1                I   \n",
       "6                                  000                1                O   \n",
       "7                                                     1                O   \n",
       "8                                                     1                O   \n",
       "\n",
       "   ORIGINAL COMBINED LOAN-TO-VALUE (CLTV) ORIGINAL DEBT-TO-INCOME (DTI) RATIO  \\\n",
       "4                                      80                                  28   \n",
       "5                                      24                                  11   \n",
       "6                                      40                                   6   \n",
       "7                                      68                                  22   \n",
       "8                                      67                                  35   \n",
       "\n",
       "           ...           PROPERTY STATE  PROPERTY TYPE  POSTAL CODE  \\\n",
       "4          ...                       OH             SF      45200.0   \n",
       "5          ...                       CA             SF      92800.0   \n",
       "6          ...                       CA             SF      92800.0   \n",
       "7          ...                       CA             SF      92500.0   \n",
       "8          ...                       CA             SF      92600.0   \n",
       "\n",
       "  LOAN SEQUENCE NUMBER LOAN PURPOSE ORIGINAL LOAN TERM NUMBER OF BORROWERS  \\\n",
       "4         F199Q1000097            N                360                 2.0   \n",
       "5         F199Q1000109            C                360                 2.0   \n",
       "6         F199Q1000121            C                360                 2.0   \n",
       "7         F199Q1000133            N                360                 2.0   \n",
       "8         F199Q1000157            C                360                 1.0   \n",
       "\n",
       "            SELLER NAME         SERVICER NAME Super Conforming Flag  \n",
       "4         Other sellers       Other servicers                   NaN  \n",
       "5  NORWEST MORTGAGE, IN  WELLSFARGOHOMEMORTGA                   NaN  \n",
       "6  NATIONSBANC MORTGAGE        BAMORTGAGE,LLC                   NaN  \n",
       "7  NORWEST MORTGAGE, IN  WELLSFARGOHOMEMORTGA                   NaN  \n",
       "8         Other sellers       Other servicers                   NaN  \n",
       "\n",
       "[5 rows x 26 columns]"
      ]
     },
     "execution_count": 149,
     "metadata": {},
     "output_type": "execute_result"
    }
   ],
   "source": [
    "orig_file[4:9]"
   ]
  },
  {
   "cell_type": "code",
   "execution_count": 148,
   "metadata": {
    "collapsed": false
   },
   "outputs": [
    {
     "data": {
      "text/plain": [
       "0"
      ]
     },
     "execution_count": 148,
     "metadata": {},
     "output_type": "execute_result"
    }
   ],
   "source": [
    "#np.where(orig_file.applymap(lambda x: x == ''))\n",
    "(orig_file['NUMBER OF UNITS'].isnull().sum())\n"
   ]
  },
  {
   "cell_type": "code",
   "execution_count": 129,
   "metadata": {
    "collapsed": false
   },
   "outputs": [
    {
     "ename": "TypeError",
     "evalue": "count() takes at least 1 argument (0 given)",
     "output_type": "error",
     "traceback": [
      "\u001b[0;31m---------------------------------------------------------------------------\u001b[0m",
      "\u001b[0;31mTypeError\u001b[0m                                 Traceback (most recent call last)",
      "\u001b[0;32m<ipython-input-129-ab4b6ed34b48>\u001b[0m in \u001b[0;36m<module>\u001b[0;34m()\u001b[0m\n\u001b[0;32m----> 1\u001b[0;31m \u001b[0morig_file\u001b[0m\u001b[0;34m[\u001b[0m\u001b[0;34m'FIRST TIME HOMEBUYER FLAG'\u001b[0m\u001b[0;34m]\u001b[0m\u001b[0;34m.\u001b[0m\u001b[0mapply\u001b[0m\u001b[0;34m(\u001b[0m\u001b[0;32mlambda\u001b[0m \u001b[0mx\u001b[0m\u001b[0;34m:\u001b[0m \u001b[0mx\u001b[0m\u001b[0;34m.\u001b[0m\u001b[0mcount\u001b[0m\u001b[0;34m(\u001b[0m\u001b[0;34m)\u001b[0m\u001b[0;34m)\u001b[0m\u001b[0;34m\u001b[0m\u001b[0m\n\u001b[0m",
      "\u001b[0;32m/home/sneha/.local/lib/python3.5/site-packages/pandas/core/series.py\u001b[0m in \u001b[0;36mapply\u001b[0;34m(self, func, convert_dtype, args, **kwds)\u001b[0m\n\u001b[1;32m   2292\u001b[0m             \u001b[0;32melse\u001b[0m\u001b[0;34m:\u001b[0m\u001b[0;34m\u001b[0m\u001b[0m\n\u001b[1;32m   2293\u001b[0m                 \u001b[0mvalues\u001b[0m \u001b[0;34m=\u001b[0m \u001b[0mself\u001b[0m\u001b[0;34m.\u001b[0m\u001b[0masobject\u001b[0m\u001b[0;34m\u001b[0m\u001b[0m\n\u001b[0;32m-> 2294\u001b[0;31m                 \u001b[0mmapped\u001b[0m \u001b[0;34m=\u001b[0m \u001b[0mlib\u001b[0m\u001b[0;34m.\u001b[0m\u001b[0mmap_infer\u001b[0m\u001b[0;34m(\u001b[0m\u001b[0mvalues\u001b[0m\u001b[0;34m,\u001b[0m \u001b[0mf\u001b[0m\u001b[0;34m,\u001b[0m \u001b[0mconvert\u001b[0m\u001b[0;34m=\u001b[0m\u001b[0mconvert_dtype\u001b[0m\u001b[0;34m)\u001b[0m\u001b[0;34m\u001b[0m\u001b[0m\n\u001b[0m\u001b[1;32m   2295\u001b[0m \u001b[0;34m\u001b[0m\u001b[0m\n\u001b[1;32m   2296\u001b[0m         \u001b[0;32mif\u001b[0m \u001b[0mlen\u001b[0m\u001b[0;34m(\u001b[0m\u001b[0mmapped\u001b[0m\u001b[0;34m)\u001b[0m \u001b[0;32mand\u001b[0m \u001b[0misinstance\u001b[0m\u001b[0;34m(\u001b[0m\u001b[0mmapped\u001b[0m\u001b[0;34m[\u001b[0m\u001b[0;36m0\u001b[0m\u001b[0;34m]\u001b[0m\u001b[0;34m,\u001b[0m \u001b[0mSeries\u001b[0m\u001b[0;34m)\u001b[0m\u001b[0;34m:\u001b[0m\u001b[0;34m\u001b[0m\u001b[0m\n",
      "\u001b[0;32mpandas/src/inference.pyx\u001b[0m in \u001b[0;36mpandas.lib.map_infer (pandas/lib.c:66124)\u001b[0;34m()\u001b[0m\n",
      "\u001b[0;32m<ipython-input-129-ab4b6ed34b48>\u001b[0m in \u001b[0;36m<lambda>\u001b[0;34m(x)\u001b[0m\n\u001b[0;32m----> 1\u001b[0;31m \u001b[0morig_file\u001b[0m\u001b[0;34m[\u001b[0m\u001b[0;34m'FIRST TIME HOMEBUYER FLAG'\u001b[0m\u001b[0;34m]\u001b[0m\u001b[0;34m.\u001b[0m\u001b[0mapply\u001b[0m\u001b[0;34m(\u001b[0m\u001b[0;32mlambda\u001b[0m \u001b[0mx\u001b[0m\u001b[0;34m:\u001b[0m \u001b[0mx\u001b[0m\u001b[0;34m.\u001b[0m\u001b[0mcount\u001b[0m\u001b[0;34m(\u001b[0m\u001b[0;34m)\u001b[0m\u001b[0;34m)\u001b[0m\u001b[0;34m\u001b[0m\u001b[0m\n\u001b[0m",
      "\u001b[0;31mTypeError\u001b[0m: count() takes at least 1 argument (0 given)"
     ]
    }
   ],
   "source": [
    "import numpy as np\n",
    "genfromtxt(\"missing1.dat\", delimiter=\"|\", filling_values=99)"
   ]
  },
  {
   "cell_type": "raw",
   "metadata": {},
   "source": [
    "#x.loc[x['CURRENT LOAN DELINQUENCY STATUS'].]\n",
    "#x['ZERO BALANCE CODE'].replace(r'\\s+', \"Not Applicable\", regex=True)\n",
    "#print (any(x['CURRENT LOAN DELINQUENCY STATUS'] ==  \"\"))\n",
    "#print(x['LOAN SEQUENCE NUMBER'] == \"F199Q1000012\")\n",
    "#print([x['LOAN SEQUENCE NUMBER].astype(str).str.contains('F199Q1000012')]\n",
    "#(orig_file['CREDIT SCORE'].isnull().sum())\n"
   ]
  }
 ],
 "metadata": {
  "kernelspec": {
   "display_name": "Python 3",
   "language": "python",
   "name": "python3"
  },
  "language_info": {
   "codemirror_mode": {
    "name": "ipython",
    "version": 3
   },
   "file_extension": ".py",
   "mimetype": "text/x-python",
   "name": "python",
   "nbconvert_exporter": "python",
   "pygments_lexer": "ipython3",
   "version": "3.5.3"
  }
 },
 "nbformat": 4,
 "nbformat_minor": 2
}
